{
 "cells": [
  {
   "cell_type": "code",
   "execution_count": 1,
   "metadata": {},
   "outputs": [],
   "source": [
    "import json, requests\n",
    "import gspread\n",
    "import datetime\n",
    "from oauth2client.service_account import ServiceAccountCredentials\n",
    "\n",
    "# Get date time\n",
    "def get_time():\n",
    "\tnow = str(datetime.datetime.now())[:10]\n",
    "\treturn now\n",
    "\t\n",
    "# Get bittrex change\n",
    "def get_bittrex_change(yesterday_price, current_price):\n",
    "\tchange = (current_price - yesterday_price)*100/yesterday_price\n",
    "\treturn change \n",
    "\t\n",
    "# Get bittrex prices\n",
    "def get_bittrex():\n",
    "\n",
    "\t# Get pair\n",
    "\tbittrex = {}\n",
    "\tbittrex[\"time\"] = get_time()\n",
    "\turl1 = \"https://bittrex.com/api/v1.1/public/getmarkets\"\n",
    "\tresp = requests.get(url=url1)\n",
    "\tdata = json.loads(resp.text)\n",
    "\t\n",
    "\t\n",
    "\t# Get pairs \n",
    "\tbtc_bittrex = []\n",
    "\tfor i in data[\"result\"]:\n",
    "\t\tif \"BTC\" in i[\"MarketName\"]:\n",
    "\t\t\tbtc_bittrex.append(i[\"MarketName\"])\n",
    "\t\telse:\n",
    "\t\t\tpass\n",
    "\t\t\t\n",
    "\t# Get pairs values\n",
    "\tbittrex[\"pair\"] = {}\n",
    "\t\n",
    "\tfor name in btc_bittrex:\n",
    "\t\turl2 = \"https://bittrex.com/api/v1.1/public/getmarketsummary?market=\" + name\n",
    "\t\tresp2 = requests.get(url=url2)\n",
    "\t\tdata2 = json.loads(resp2.text)\n",
    "\t\tsub_data2 = {}\n",
    "\t\t\n",
    "\t\t# Extract data from data2\n",
    "\t\tsub_data2[\"name\"] \t= name\n",
    "\t\tsub_data2[\"last_price\"] = data2[\"result\"][0][\"Last\"]\n",
    "\t\tsub_data2[\"volume\"] \t= data2[\"result\"][0][\"Volume\"]\n",
    "\t\tsub_data2[\"change\"] \t= get_bittrex_change(data2[\"result\"][0][\"PrevDay\"], data2[\"result\"][0][\"Last\"])\n",
    "\t\t# print(sub_data2)\n",
    "\t\tbittrex[\"pair\"][name]  = sub_data2\n",
    "\n",
    "\treturn bittrex\n",
    "# bittrex = get_bittrex()\n",
    "\n",
    "# Get binance prices\n",
    "def get_binance():\n",
    "\n",
    "    binance         = {}\n",
    "    binance[\"time\"] = get_time()\n",
    "    binance[\"pair\"] = {}\n",
    "    #sub_data2      = {}\n",
    "    url             = \"https://www.binance.com/api/v1/ticker/24hr\"\n",
    "    resp            = requests.get(url=url)\n",
    "    data            = json.loads(resp.text)\n",
    "\n",
    "    # Get pairs\n",
    "    btc_binance = []\n",
    "    for item in data:\n",
    "        if \"BTC\" in item[\"symbol\"]:\n",
    "\t\t\n",
    "\t    # Extract data\n",
    "            sub_data2               = {}\n",
    "            sub_data2[\"name\"]       = item[\"symbol\"]\n",
    "            sub_data2[\"last_price\"] = float(item[\"lastPrice\"])\n",
    "            sub_data2[\"volume\"]     = float(item[\"volume\"])\n",
    "            sub_data2[\"change\"]     = float(item[\"priceChangePercent\"])\n",
    "            # print item[\"symbol\"]\n",
    "            binance[\"pair\"][item[\"symbol\"]] = sub_data2\n",
    "        else:\n",
    "            pass\n",
    "    return binance\n",
    "# binance = get_binance()"
   ]
  },
  {
   "cell_type": "code",
   "execution_count": 2,
   "metadata": {},
   "outputs": [],
   "source": [
    "binance = get_binance()\n",
    "bittrex = get_bittrex()"
   ]
  },
  {
   "cell_type": "code",
   "execution_count": 26,
   "metadata": {},
   "outputs": [],
   "source": [
    "from oauth2client.service_account import ServiceAccountCredentials\n",
    "import gspread"
   ]
  },
  {
   "cell_type": "code",
   "execution_count": 43,
   "metadata": {},
   "outputs": [],
   "source": [
    "# Auth\n",
    "spreadsheet_name = \"Bittrex and Binance monthly data\"\n",
    "email            = \"tomcangbk@gmail.com\"\n",
    "key              = \"client_secret.json\"\n",
    "\n",
    "scope \t\t= ['https://spreadsheets.google.com/feeds','https://www.googleapis.com/auth/drive']\n",
    "credentials = ServiceAccountCredentials.from_json_keyfile_name(key, scope)\n",
    "gc \t\t\t= gspread.authorize(credentials)"
   ]
  },
  {
   "cell_type": "code",
   "execution_count": 44,
   "metadata": {},
   "outputs": [
    {
     "name": "stdout",
     "output_type": "stream",
     "text": [
      "Success open spreadsheet\n"
     ]
    }
   ],
   "source": [
    "# Open spreadsheet if exist. If not, create it!\n",
    "try:\n",
    "    sh          = gc.open(spreadsheet_name)\n",
    "    sh.share(email, perm_type='user', role='writer')\n",
    "    print \"Success open spreadsheet\"\n",
    "except:\n",
    "    print \"No spreadsheet name \" + spreadsheet_name + \"create spreadsheet\"\n",
    "    sh = gc.create(spreadsheet_name)\n",
    "    sh.share(email, perm_type='user', role='writer')"
   ]
  },
  {
   "cell_type": "code",
   "execution_count": 45,
   "metadata": {},
   "outputs": [
    {
     "name": "stdout",
     "output_type": "stream",
     "text": [
      "2018-01-bittrex\n",
      "2018-01-binance\n"
     ]
    }
   ],
   "source": [
    "col_bittrex = len(bittrex[\"pair\"])*3 + 1\n",
    "col_binance = len(binance[\"pair\"])*3 + 1\n",
    "\n",
    "bittrex_sheet_name      = get_time()[:7] + \"-bittrex\"\n",
    "print bittrex_sheet_name\n",
    "binance_sheet_name      = get_time()[:7] + \"-binance\"\n",
    "print binance_sheet_name\n",
    "coin = {bittrex_sheet_name: {\"data\": bittrex, \"column\": col_bittrex}, \n",
    "        binance_sheet_name: {\"data\": binance, \"column\": col_binance}}"
   ]
  },
  {
   "cell_type": "code",
   "execution_count": 46,
   "metadata": {},
   "outputs": [
    {
     "name": "stdout",
     "output_type": "stream",
     "text": [
      "da co sheet 2018-01-binance\n",
      "4\n",
      "da co sheet 2018-01-bittrex\n",
      "4\n"
     ]
    }
   ],
   "source": [
    "for k, v in coin.iteritems():\n",
    "    try:\n",
    "        ws = sh.worksheet(k)\n",
    "        # Add new data to exist sheet\n",
    "        print \"da co sheet \" + k\n",
    "        \n",
    "        # Finding \"count\"\n",
    "        count = 0\n",
    "        for i in range(2, 33):\n",
    "            if ws.cell(1, i).value != \"\":\n",
    "                pass\n",
    "            else:\n",
    "                count = i + 1\n",
    "                print count\n",
    "                break\n",
    "        ws.update_cell(count, 1, v[\"data\"][\"time\"])\n",
    "        # Append data to exist sheet\n",
    "        for key, value in v[\"data\"][\"pair\"].iteritems():\n",
    "            # Find pair if exist and write data\n",
    "            try:\n",
    "                cell = ws.find(key)\n",
    "                i = cell.col\n",
    "                ws.update_cell(count, i, value[\"last_price\"])\n",
    "                ws.update_cell(count, i+1, value[\"volume\"])\n",
    "                ws.update_cell(count, i+2, value[\"change\"])\n",
    "            except gspread.exceptions.CellNotFound as e:\n",
    "                print \"Pair not exist\"\n",
    "                # Create new columns\n",
    "                ws.add_cols(3)\n",
    "                i = ws.col_count - 2\n",
    "                \n",
    "                # Write new header for new pair\n",
    "                ws.update_cell(1, i, key)\n",
    "                ws.update_cell(2, i, \"Price\")\n",
    "                ws.update_cell(2, i+1, \"Volume\")\n",
    "                ws.update_cell(2, i+2, \"Change (%)\")\n",
    "                \n",
    "                # Write data of pair\n",
    "                ws.update_cell(count, i, value[\"last_price\"])\n",
    "                ws.update_cell(count, i+1, value[\"volume\"])\n",
    "                ws.update_cell(count, i+2, value[\"change\"])\n",
    "            \n",
    "    except gspread.exceptions.WorksheetNotFound as e:\n",
    "        print type(e)\n",
    "        print \"chua co sheet \" + k\n",
    "        # Create sheet \n",
    "        ws = sh.add_worksheet(k, 33, v[\"column\"])\n",
    "        print \"da tao sheet \" + k\n",
    "        \n",
    "        # Create sheet header\n",
    "        i = 2\n",
    "        ws.update_cell(2, 1, \"Date\")\n",
    "        ws.update_cell(3, 1, v[\"data\"][\"time\"])\n",
    "        for key, value in v[\"data\"][\"pair\"].iteritems():\n",
    "            ws.update_cell(1, i, key)\n",
    "            ws.update_cell(2, i, \"Price\")\n",
    "            ws.update_cell(2, i+1, \"Volume\")\n",
    "            ws.update_cell(2, i+2, \"Change (%)\") \n",
    "            \n",
    "            # Write the first record\n",
    "            ws.update_cell(3, i, value[\"last_price\"])\n",
    "            ws.update_cell(3, i+1, value[\"volume\"])\n",
    "            ws.update_cell(3, i+2, value[\"change\"])\n",
    "            \n",
    "            i = i + 3\n",
    "          "
   ]
  },
  {
   "cell_type": "code",
   "execution_count": null,
   "metadata": {},
   "outputs": [],
   "source": []
  }
 ],
 "metadata": {
  "kernelspec": {
   "display_name": "Python 2",
   "language": "python",
   "name": "python2"
  },
  "language_info": {
   "codemirror_mode": {
    "name": "ipython",
    "version": 2
   },
   "file_extension": ".py",
   "mimetype": "text/x-python",
   "name": "python",
   "nbconvert_exporter": "python",
   "pygments_lexer": "ipython2",
   "version": "2.7.12"
  }
 },
 "nbformat": 4,
 "nbformat_minor": 2
}
