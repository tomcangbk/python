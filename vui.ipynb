{
 "cells": [
  {
   "cell_type": "code",
   "execution_count": 2,
   "metadata": {
    "collapsed": true
   },
   "outputs": [],
   "source": [
    "import json, requests\n",
    "import gspread\n",
    "import datetime\n",
    "from oauth2client.service_account import ServiceAccountCredentials\n",
    "\n",
    "# Get date time\n",
    "def get_time():\n",
    "\tnow = str(datetime.datetime.now())[:10]\n",
    "\treturn now\n",
    "\t\n",
    "# Get bittrex change\n",
    "def get_bittrex_change(yesterday_price, current_price):\n",
    "\tchange = (current_price - yesterday_price)*100/yesterday_price\n",
    "\treturn change \n",
    "\t\n",
    "# Get bittrex prices\n",
    "def get_bittrex():\n",
    "\n",
    "\t# Get pair\n",
    "\tbittrex = {}\n",
    "\tbittrex[\"time\"] = get_time()\n",
    "\turl1 = \"https://bittrex.com/api/v1.1/public/getmarkets\"\n",
    "\tresp = requests.get(url=url1)\n",
    "\tdata = json.loads(resp.text)\n",
    "\t\n",
    "\t\n",
    "\t# Get pairs \n",
    "\tbtc_bittrex = []\n",
    "\tfor i in data[\"result\"]:\n",
    "\t\tif \"BTC\" in i[\"MarketName\"]:\n",
    "\t\t\tbtc_bittrex.append(i[\"MarketName\"])\n",
    "\t\telse:\n",
    "\t\t\tpass\n",
    "\t\t\t\n",
    "\t# Get pairs values\n",
    "\tbittrex[\"pair\"] = {}\n",
    "\t\n",
    "\tfor name in btc_bittrex:\n",
    "\t\turl2 = \"https://bittrex.com/api/v1.1/public/getmarketsummary?market=\" + name\n",
    "\t\tresp2 = requests.get(url=url2)\n",
    "\t\tdata2 = json.loads(resp2.text)\n",
    "\t\tsub_data2 = {}\n",
    "\t\t\n",
    "\t\t# Extract data from data2\n",
    "\t\tsub_data2[\"name\"] \t= name\n",
    "\t\tsub_data2[\"last_price\"] = data2[\"result\"][0][\"Last\"]\n",
    "\t\tsub_data2[\"volume\"] \t= data2[\"result\"][0][\"Volume\"]\n",
    "\t\tsub_data2[\"change\"] \t= get_bittrex_change(data2[\"result\"][0][\"PrevDay\"], data2[\"result\"][0][\"Last\"])\n",
    "\t\t# print(sub_data2)\n",
    "\t\tbittrex[\"pair\"][name]  = sub_data2\n",
    "\n",
    "\treturn bittrex\n",
    "# bittrex = get_bittrex()\n",
    "\n",
    "# Get binance prices\n",
    "def get_binance():\n",
    "\n",
    "    binance         = {}\n",
    "    binance[\"time\"] = get_time()\n",
    "    binance[\"pair\"] = {}\n",
    "    #sub_data2      = {}\n",
    "    url             = \"https://www.binance.com/api/v1/ticker/24hr\"\n",
    "    resp            = requests.get(url=url)\n",
    "    data            = json.loads(resp.text)\n",
    "\n",
    "    # Get pairs\n",
    "    btc_binance = []\n",
    "    for item in data:\n",
    "        if \"BTC\" in item[\"symbol\"]:\n",
    "\t\t\n",
    "\t    # Extract data\n",
    "            sub_data2               = {}\n",
    "            sub_data2[\"name\"]       = item[\"symbol\"]\n",
    "            sub_data2[\"last_price\"] = float(item[\"lastPrice\"])\n",
    "            sub_data2[\"volume\"]     = float(item[\"volume\"])\n",
    "            sub_data2[\"change\"]     = float(item[\"priceChangePercent\"])\n",
    "            # print item[\"symbol\"]\n",
    "            binance[\"pair\"][item[\"symbol\"]] = sub_data2\n",
    "        else:\n",
    "            pass\n",
    "    return binance\n",
    "# binance = get_binance()"
   ]
  },
  {
   "cell_type": "code",
   "execution_count": 5,
   "metadata": {
    "collapsed": true
   },
   "outputs": [],
   "source": [
    "binance = get_binance()\n",
    "bittrex = get_bittrex()\n",
    "coin = [bittrex, binance]"
   ]
  },
  {
   "cell_type": "code",
   "execution_count": 6,
   "metadata": {
    "collapsed": true
   },
   "outputs": [],
   "source": [
    "from oauth2client.service_account import ServiceAccountCredentials\n",
    "import gspread"
   ]
  },
  {
   "cell_type": "code",
   "execution_count": 11,
   "metadata": {
    "collapsed": true
   },
   "outputs": [],
   "source": [
    "# Get column of bittrex and binance sheet for start of month\n",
    "col_bittrex = len(bittrex[\"pair\"])*3 + 1\n",
    "col_binance = len(binance[\"pair\"])*3 + 1\n"
   ]
  },
  {
   "cell_type": "code",
   "execution_count": 14,
   "metadata": {
    "collapsed": true
   },
   "outputs": [],
   "source": [
    "# Auth\n",
    "spreadsheet_name = \"Bittrex and Binance monthly data\"\n",
    "email            = \"tomcangbk@gmail.com\"\n",
    "key              = \"client_secret.json\"\n",
    "\n",
    "scope \t\t= ['https://spreadsheets.google.com/feeds','https://www.googleapis.com/auth/drive']\n",
    "credentials = ServiceAccountCredentials.from_json_keyfile_name(key, scope)\n",
    "gc \t\t\t= gspread.authorize(credentials)"
   ]
  },
  {
   "cell_type": "code",
   "execution_count": 16,
   "metadata": {},
   "outputs": [
    {
     "name": "stdout",
     "output_type": "stream",
     "text": [
      "Success open spreadsheet\n"
     ]
    }
   ],
   "source": [
    "# Open spreadsheet if exist. If not, create it!\n",
    "try:\n",
    "    sh          = gc.open(spreadsheet_name)\n",
    "    sh.share(email, perm_type='user', role='writer')\n",
    "    print \"Success open spreadsheet\"\n",
    "except:\n",
    "    print \"No spreadsheet name \" + spreadsheet_name + \"create spreadsheet\"\n",
    "    sh = gc.create(spreadsheet_name)\n",
    "    sh.share(email, perm_type='user', role='writer')"
   ]
  },
  {
   "cell_type": "code",
   "execution_count": 18,
   "metadata": {},
   "outputs": [
    {
     "name": "stdout",
     "output_type": "stream",
     "text": [
      "2018-01-bittrex\n",
      "2018-01-binance\n"
     ]
    }
   ],
   "source": [
    "bittrex_sheet_name      = get_time()[:7] + \"-bittrex\"\n",
    "print bittrex_sheet_name\n",
    "binance_sheet_name      = get_time()[:7] + \"-binance\"\n",
    "print binance_sheet_name\n",
    "bt_and_bn_sheets = {bittrex_sheet_name: coll_bittrex, binance_sheet_name: coll_binance}"
   ]
  },
  {
   "cell_type": "code",
   "execution_count": null,
   "metadata": {
    "collapsed": true
   },
   "outputs": [],
   "source": [
    "# Check sheet_name(today) exist in worksheet_list or not\n",
    "\n",
    "for sheet_name, sheet_coll in bt_and_bn_sheets:\n",
    "    try:\n",
    "        ws = sh.worksheet(sheet_name)\n",
    "        # Add new data to exist sheet\n",
    "        \n",
    "        # Finding \"count\"\n",
    "        count = 0\n",
    "        for i in range(2, 33):\n",
    "            if val = worksheet.cell(1, i).value =! null:\n",
    "                pass\n",
    "            else:\n",
    "                count = i\n",
    "                break\n",
    "        # Append data to sheet\n",
    "        for item in coin:\n",
    "            \n",
    "    except:\n",
    "        # Create new worksheet\n",
    "        ws = sh.add_worksheet(sheet_name, 31, sheet_coll)\n",
    "\n",
    "        # Create sheet header\n",
    "        i = 2\n",
    "        ws.update_cell(2, 1, \"Date\")\n",
    "        for item in coin:\n",
    "            ws.update_cell(1, i, item[\"pair\"][\"name\"])\n",
    "            ws.update_cell(2, i, \"Price\")\n",
    "            ws.update_cell(2, i+1, \"Volume\")\n",
    "            ws.update_cell(2, i+2, \"Change (%)\")\n",
    "\n",
    "            ws.update_cell(3, i, item[\"pair\"][\"price\"])\n",
    "            ws.update_cell(3, i + 1, item[\"pair\"][\"volume\"])\n",
    "            ws.update_cell(3, i + 2, item[\"pair\"][\"change\"])\n",
    "            i = i + 3"
   ]
  }
 ],
 "metadata": {
  "kernelspec": {
   "display_name": "Python 2",
   "language": "python",
   "name": "python2"
  },
  "language_info": {
   "codemirror_mode": {
    "name": "ipython",
    "version": 2
   },
   "file_extension": ".py",
   "mimetype": "text/x-python",
   "name": "python",
   "nbconvert_exporter": "python",
   "pygments_lexer": "ipython2",
   "version": "2.7.14"
  }
 },
 "nbformat": 4,
 "nbformat_minor": 2
}
